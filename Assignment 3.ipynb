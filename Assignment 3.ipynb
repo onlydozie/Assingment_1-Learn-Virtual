{
 "cells": [
  {
   "cell_type": "code",
   "execution_count": 1,
   "metadata": {},
   "outputs": [],
   "source": [
    "import pandas as pd"
   ]
  },
  {
   "cell_type": "code",
   "execution_count": 2,
   "metadata": {},
   "outputs": [],
   "source": [
    "#class that class that captures planets. \n",
    "\n",
    "class Planetclass():\n",
    "    \n",
    "    def __init__(self,PlanetName,PlanetDistance,PlanetGravity):\n",
    "        self.PlanetName = PlanetName\n",
    "        self.PlanetDistance = PlanetDistance\n",
    "        self.PlanetGravity = PlanetGravity\n",
    "        \n",
    "    def display_PlanetProfile(self):        \n",
    "        planet_detail = [self.PlanetName, self.PlanetDistance, self.PlanetGravity]\n",
    "        save_data = pd.DataFrame(planet_detail)\n",
    "        return save_data\n",
    "        "
   ]
  },
  {
   "cell_type": "code",
   "execution_count": 3,
   "metadata": {},
   "outputs": [],
   "source": [
    "Planet1 = Planetclass (\"Earth\", 146000000, 9.80)"
   ]
  },
  {
   "cell_type": "code",
   "execution_count": 4,
   "metadata": {},
   "outputs": [
    {
     "data": {
      "text/html": [
       "<div>\n",
       "<style scoped>\n",
       "    .dataframe tbody tr th:only-of-type {\n",
       "        vertical-align: middle;\n",
       "    }\n",
       "\n",
       "    .dataframe tbody tr th {\n",
       "        vertical-align: top;\n",
       "    }\n",
       "\n",
       "    .dataframe thead th {\n",
       "        text-align: right;\n",
       "    }\n",
       "</style>\n",
       "<table border=\"1\" class=\"dataframe\">\n",
       "  <thead>\n",
       "    <tr style=\"text-align: right;\">\n",
       "      <th></th>\n",
       "      <th>0</th>\n",
       "    </tr>\n",
       "  </thead>\n",
       "  <tbody>\n",
       "    <tr>\n",
       "      <th>0</th>\n",
       "      <td>Earth</td>\n",
       "    </tr>\n",
       "    <tr>\n",
       "      <th>1</th>\n",
       "      <td>146000000</td>\n",
       "    </tr>\n",
       "    <tr>\n",
       "      <th>2</th>\n",
       "      <td>9.8</td>\n",
       "    </tr>\n",
       "  </tbody>\n",
       "</table>\n",
       "</div>"
      ],
      "text/plain": [
       "           0\n",
       "0      Earth\n",
       "1  146000000\n",
       "2        9.8"
      ]
     },
     "execution_count": 4,
     "metadata": {},
     "output_type": "execute_result"
    }
   ],
   "source": [
    "Planet1.display_PlanetProfile()"
   ]
  },
  {
   "cell_type": "code",
   "execution_count": 5,
   "metadata": {},
   "outputs": [],
   "source": [
    "#classes that capture bank customers and bank accounts.\n",
    "\n",
    "class Bank_Customer():\n",
    "    is_student = True\n",
    "    \n",
    "    def __init__(self,FirstName,LastName):\n",
    "        self.FirstName = FirstName\n",
    "        self.LastName = LastName\n",
    "        Bank_Customer_detail = [self.FirstName, self.LastName]\n",
    "    \n",
    "    def Bank_Customerdisplay(self):\n",
    "        print(f\"{self.FirstName} {self.LastName}\")\n",
    "   \n",
    "\n",
    "class Bank_Account():\n",
    "    #is_Bankc = True\n",
    "    def __init__(self, Customer, Balance):\n",
    "        self.Customer = Customer\n",
    "        self.Balance = Balance\n",
    "    \n",
    "    def Bank_Accountdisplay(self):\n",
    "        print(f\"{self.Customer} {self.Balance}\")"
   ]
  },
  {
   "cell_type": "code",
   "execution_count": 6,
   "metadata": {},
   "outputs": [
    {
     "name": "stdout",
     "output_type": "stream",
     "text": [
      "Dozie Nwosu\n",
      "Dozie Nwosu 20000000000\n",
      "Dozie Nwosu 30000000000\n"
     ]
    }
   ],
   "source": [
    "Bank_Customer1 = Bank_Customer(\"Dozie\", \"Nwosu\")\n",
    "Bank_Account1 = Bank_Account(\"Dozie Nwosu\",20000000000)\n",
    "Bank_Account2 = Bank_Account(\"Dozie Nwosu\",30000000000)\n",
    "Bank_Customer1.Bank_Customerdisplay()\n",
    "Bank_Account1.Bank_Accountdisplay()\n",
    "Bank_Account2.Bank_Accountdisplay()"
   ]
  },
  {
   "cell_type": "code",
   "execution_count": null,
   "metadata": {},
   "outputs": [],
   "source": []
  },
  {
   "cell_type": "code",
   "execution_count": null,
   "metadata": {},
   "outputs": [],
   "source": []
  },
  {
   "cell_type": "code",
   "execution_count": null,
   "metadata": {},
   "outputs": [],
   "source": []
  }
 ],
 "metadata": {
  "kernelspec": {
   "display_name": "Python 3",
   "language": "python",
   "name": "python3"
  },
  "language_info": {
   "codemirror_mode": {
    "name": "ipython",
    "version": 3
   },
   "file_extension": ".py",
   "mimetype": "text/x-python",
   "name": "python",
   "nbconvert_exporter": "python",
   "pygments_lexer": "ipython3",
   "version": "3.7.6"
  }
 },
 "nbformat": 4,
 "nbformat_minor": 4
}
